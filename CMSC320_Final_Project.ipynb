{
 "cells": [
  {
   "cell_type": "markdown",
   "id": "573e880f",
   "metadata": {},
   "source": [
    "# **CMSC 320 Final Project** \n",
    "## **Final Due Date: *Dec 09, 2025 @ 11:59 PM***\n",
    "## **Group Members: Ricardo Vasquez, Justin Glazer, Jonathan Teagan, Colin Pollard**"
   ]
  },
  {
   "cell_type": "markdown",
   "id": "7cf43eb8",
   "metadata": {},
   "source": [
    "## Checkpoint #2\n",
    "\n",
    "\n",
    "\n",
    "**List of Imports**"
   ]
  },
  {
   "cell_type": "code",
   "execution_count": 16,
   "id": "4a8f8275",
   "metadata": {},
   "outputs": [],
   "source": [
    "import pandas as pd\n",
    "from datetime import datetime\n",
    "import string\n",
    "from scipy.stats import chi2_contingency, ttest_ind\n",
    "import matplotlib.pyplot as plt\n",
    "import sys\n",
    "import numpy as np"
   ]
  },
  {
   "cell_type": "markdown",
   "id": "6e342701",
   "metadata": {},
   "source": [
    "## Data Preprocessing\n",
    "\n",
    "**Observations on the Titanic Dataset**"
   ]
  },
  {
   "cell_type": "code",
   "execution_count": 17,
   "id": "b99d6d4b",
   "metadata": {},
   "outputs": [
    {
     "data": {
      "text/html": [
       "<div>\n",
       "<style scoped>\n",
       "    .dataframe tbody tr th:only-of-type {\n",
       "        vertical-align: middle;\n",
       "    }\n",
       "\n",
       "    .dataframe tbody tr th {\n",
       "        vertical-align: top;\n",
       "    }\n",
       "\n",
       "    .dataframe thead th {\n",
       "        text-align: right;\n",
       "    }\n",
       "</style>\n",
       "<table border=\"1\" class=\"dataframe\">\n",
       "  <thead>\n",
       "    <tr style=\"text-align: right;\">\n",
       "      <th></th>\n",
       "      <th>PassengerId</th>\n",
       "      <th>Survived</th>\n",
       "      <th>Pclass</th>\n",
       "      <th>Name</th>\n",
       "      <th>Sex</th>\n",
       "      <th>Age</th>\n",
       "      <th>SibSp</th>\n",
       "      <th>Parch</th>\n",
       "      <th>Ticket</th>\n",
       "      <th>Fare</th>\n",
       "      <th>Cabin</th>\n",
       "      <th>Embarked</th>\n",
       "    </tr>\n",
       "  </thead>\n",
       "  <tbody>\n",
       "    <tr>\n",
       "      <th>0</th>\n",
       "      <td>1</td>\n",
       "      <td>0</td>\n",
       "      <td>3</td>\n",
       "      <td>Braund, Mr. Owen Harris</td>\n",
       "      <td>male</td>\n",
       "      <td>22.0</td>\n",
       "      <td>1</td>\n",
       "      <td>0</td>\n",
       "      <td>A/5 21171</td>\n",
       "      <td>7.2500</td>\n",
       "      <td>NaN</td>\n",
       "      <td>S</td>\n",
       "    </tr>\n",
       "    <tr>\n",
       "      <th>1</th>\n",
       "      <td>2</td>\n",
       "      <td>1</td>\n",
       "      <td>1</td>\n",
       "      <td>Cumings, Mrs. John Bradley (Florence Briggs Th...</td>\n",
       "      <td>female</td>\n",
       "      <td>38.0</td>\n",
       "      <td>1</td>\n",
       "      <td>0</td>\n",
       "      <td>PC 17599</td>\n",
       "      <td>71.2833</td>\n",
       "      <td>C85</td>\n",
       "      <td>C</td>\n",
       "    </tr>\n",
       "    <tr>\n",
       "      <th>2</th>\n",
       "      <td>3</td>\n",
       "      <td>1</td>\n",
       "      <td>3</td>\n",
       "      <td>Heikkinen, Miss. Laina</td>\n",
       "      <td>female</td>\n",
       "      <td>26.0</td>\n",
       "      <td>0</td>\n",
       "      <td>0</td>\n",
       "      <td>STON/O2. 3101282</td>\n",
       "      <td>7.9250</td>\n",
       "      <td>NaN</td>\n",
       "      <td>S</td>\n",
       "    </tr>\n",
       "    <tr>\n",
       "      <th>3</th>\n",
       "      <td>4</td>\n",
       "      <td>1</td>\n",
       "      <td>1</td>\n",
       "      <td>Futrelle, Mrs. Jacques Heath (Lily May Peel)</td>\n",
       "      <td>female</td>\n",
       "      <td>35.0</td>\n",
       "      <td>1</td>\n",
       "      <td>0</td>\n",
       "      <td>113803</td>\n",
       "      <td>53.1000</td>\n",
       "      <td>C123</td>\n",
       "      <td>S</td>\n",
       "    </tr>\n",
       "    <tr>\n",
       "      <th>4</th>\n",
       "      <td>5</td>\n",
       "      <td>0</td>\n",
       "      <td>3</td>\n",
       "      <td>Allen, Mr. William Henry</td>\n",
       "      <td>male</td>\n",
       "      <td>35.0</td>\n",
       "      <td>0</td>\n",
       "      <td>0</td>\n",
       "      <td>373450</td>\n",
       "      <td>8.0500</td>\n",
       "      <td>NaN</td>\n",
       "      <td>S</td>\n",
       "    </tr>\n",
       "    <tr>\n",
       "      <th>5</th>\n",
       "      <td>6</td>\n",
       "      <td>0</td>\n",
       "      <td>3</td>\n",
       "      <td>Moran, Mr. James</td>\n",
       "      <td>male</td>\n",
       "      <td>NaN</td>\n",
       "      <td>0</td>\n",
       "      <td>0</td>\n",
       "      <td>330877</td>\n",
       "      <td>8.4583</td>\n",
       "      <td>NaN</td>\n",
       "      <td>Q</td>\n",
       "    </tr>\n",
       "    <tr>\n",
       "      <th>6</th>\n",
       "      <td>7</td>\n",
       "      <td>0</td>\n",
       "      <td>1</td>\n",
       "      <td>McCarthy, Mr. Timothy J</td>\n",
       "      <td>male</td>\n",
       "      <td>54.0</td>\n",
       "      <td>0</td>\n",
       "      <td>0</td>\n",
       "      <td>17463</td>\n",
       "      <td>51.8625</td>\n",
       "      <td>E46</td>\n",
       "      <td>S</td>\n",
       "    </tr>\n",
       "    <tr>\n",
       "      <th>7</th>\n",
       "      <td>8</td>\n",
       "      <td>0</td>\n",
       "      <td>3</td>\n",
       "      <td>Palsson, Master. Gosta Leonard</td>\n",
       "      <td>male</td>\n",
       "      <td>2.0</td>\n",
       "      <td>3</td>\n",
       "      <td>1</td>\n",
       "      <td>349909</td>\n",
       "      <td>21.0750</td>\n",
       "      <td>NaN</td>\n",
       "      <td>S</td>\n",
       "    </tr>\n",
       "    <tr>\n",
       "      <th>8</th>\n",
       "      <td>9</td>\n",
       "      <td>1</td>\n",
       "      <td>3</td>\n",
       "      <td>Johnson, Mrs. Oscar W (Elisabeth Vilhelmina Berg)</td>\n",
       "      <td>female</td>\n",
       "      <td>27.0</td>\n",
       "      <td>0</td>\n",
       "      <td>2</td>\n",
       "      <td>347742</td>\n",
       "      <td>11.1333</td>\n",
       "      <td>NaN</td>\n",
       "      <td>S</td>\n",
       "    </tr>\n",
       "    <tr>\n",
       "      <th>9</th>\n",
       "      <td>10</td>\n",
       "      <td>1</td>\n",
       "      <td>2</td>\n",
       "      <td>Nasser, Mrs. Nicholas (Adele Achem)</td>\n",
       "      <td>female</td>\n",
       "      <td>14.0</td>\n",
       "      <td>1</td>\n",
       "      <td>0</td>\n",
       "      <td>237736</td>\n",
       "      <td>30.0708</td>\n",
       "      <td>NaN</td>\n",
       "      <td>C</td>\n",
       "    </tr>\n",
       "  </tbody>\n",
       "</table>\n",
       "</div>"
      ],
      "text/plain": [
       "   PassengerId  Survived  Pclass  \\\n",
       "0            1         0       3   \n",
       "1            2         1       1   \n",
       "2            3         1       3   \n",
       "3            4         1       1   \n",
       "4            5         0       3   \n",
       "5            6         0       3   \n",
       "6            7         0       1   \n",
       "7            8         0       3   \n",
       "8            9         1       3   \n",
       "9           10         1       2   \n",
       "\n",
       "                                                Name     Sex   Age  SibSp  \\\n",
       "0                            Braund, Mr. Owen Harris    male  22.0      1   \n",
       "1  Cumings, Mrs. John Bradley (Florence Briggs Th...  female  38.0      1   \n",
       "2                             Heikkinen, Miss. Laina  female  26.0      0   \n",
       "3       Futrelle, Mrs. Jacques Heath (Lily May Peel)  female  35.0      1   \n",
       "4                           Allen, Mr. William Henry    male  35.0      0   \n",
       "5                                   Moran, Mr. James    male   NaN      0   \n",
       "6                            McCarthy, Mr. Timothy J    male  54.0      0   \n",
       "7                     Palsson, Master. Gosta Leonard    male   2.0      3   \n",
       "8  Johnson, Mrs. Oscar W (Elisabeth Vilhelmina Berg)  female  27.0      0   \n",
       "9                Nasser, Mrs. Nicholas (Adele Achem)  female  14.0      1   \n",
       "\n",
       "   Parch            Ticket     Fare Cabin Embarked  \n",
       "0      0         A/5 21171   7.2500   NaN        S  \n",
       "1      0          PC 17599  71.2833   C85        C  \n",
       "2      0  STON/O2. 3101282   7.9250   NaN        S  \n",
       "3      0            113803  53.1000  C123        S  \n",
       "4      0            373450   8.0500   NaN        S  \n",
       "5      0            330877   8.4583   NaN        Q  \n",
       "6      0             17463  51.8625   E46        S  \n",
       "7      1            349909  21.0750   NaN        S  \n",
       "8      2            347742  11.1333   NaN        S  \n",
       "9      0            237736  30.0708   NaN        C  "
      ]
     },
     "metadata": {},
     "output_type": "display_data"
    },
    {
     "data": {
      "text/plain": [
       "'Rows: 891, Cols: 12'"
      ]
     },
     "metadata": {},
     "output_type": "display_data"
    },
    {
     "data": {
      "text/plain": [
       "\"Column Names: ['PassengerId', 'Survived', 'Pclass', 'Name', 'Sex', 'Age', 'SibSp', 'Parch', 'Ticket', 'Fare', 'Cabin', 'Embarked']\""
      ]
     },
     "metadata": {},
     "output_type": "display_data"
    },
    {
     "data": {
      "text/plain": [
       "\"Column Types: [dtype('int64'), dtype('int64'), dtype('int64'), dtype('O'), dtype('O'), dtype('float64'), dtype('int64'), dtype('int64'), dtype('O'), dtype('float64'), dtype('O'), dtype('O')]\""
      ]
     },
     "metadata": {},
     "output_type": "display_data"
    },
    {
     "data": {
      "text/plain": [
       "PassengerId    891\n",
       "Survived       891\n",
       "Pclass         891\n",
       "Name           891\n",
       "Sex            891\n",
       "Age            714\n",
       "SibSp          891\n",
       "Parch          891\n",
       "Ticket         891\n",
       "Fare           891\n",
       "Cabin          204\n",
       "Embarked       889\n",
       "dtype: int64"
      ]
     },
     "metadata": {},
     "output_type": "display_data"
    }
   ],
   "source": [
    "titanic_df = pd.read_csv(\"Titanic-Dataset.csv\")\n",
    "rows_num, cols_num = titanic_df.shape\n",
    "cols = titanic_df.columns.to_list()\n",
    "col_types = titanic_df.dtypes.to_list()\n",
    "info = titanic_df.count()\n",
    "display(titanic_df.head(n=10), f\"Rows: {rows_num}, Cols: {cols_num}\", f\"Column Names: {cols}\", f\"Column Types: {col_types}\", info)"
   ]
  },
  {
   "cell_type": "code",
   "execution_count": 18,
   "id": "7cdb3a16",
   "metadata": {},
   "outputs": [
    {
     "name": "stdout",
     "output_type": "stream",
     "text": [
      "PassengerId's Unique: True , Total Unique: 891 out of 891\n",
      "Null counts by category:\n",
      "PassengerId      0\n",
      "Survived         0\n",
      "Pclass           0\n",
      "Name             0\n",
      "Sex              0\n",
      "Age            177\n",
      "SibSp            0\n",
      "Parch            0\n",
      "Ticket           0\n",
      "Fare             0\n",
      "Cabin          687\n",
      "Embarked         2\n",
      "dtype: int64\n",
      "Duplicated: 0\n",
      "Name : 2 entries with leading/trailing whitespace\n",
      "Cabin : 687 entries with leading/trailing whitespace\n",
      "Embarked : 2 entries with leading/trailing whitespace\n"
     ]
    }
   ],
   "source": [
    "unique_id = titanic_df['PassengerId'].is_unique\n",
    "tot_unique_id = titanic_df['PassengerId'].nunique()\n",
    "print(\"PassengerId's Unique:\", unique_id, \", Total Unique:\",tot_unique_id, \"out of\", len(titanic_df))\n",
    "\n",
    "null_count = titanic_df.isnull().sum()\n",
    "duplicates = titanic_df.duplicated().sum()\n",
    "print(\"Null counts by category:\")\n",
    "print(null_count)\n",
    "print(\"Duplicated:\", duplicates)\n",
    "\n",
    "\n",
    "string_cols = titanic_df.select_dtypes(include=['object']).columns\n",
    "for col in string_cols:\n",
    "    whitespace_count = titanic_df[col].str.strip().ne(titanic_df[col]).sum()\n",
    "    if whitespace_count > 0:\n",
    "        print(col, \":\",whitespace_count, \"entries with leading/trailing whitespace\")\n",
    "\n"
   ]
  },
  {
   "cell_type": "code",
   "execution_count": 19,
   "id": "f6b9d9d5",
   "metadata": {},
   "outputs": [
    {
     "name": "stderr",
     "output_type": "stream",
     "text": [
      "/tmp/ipykernel_2924/369798375.py:74: FutureWarning: DataFrameGroupBy.apply operated on the grouping columns. This behavior is deprecated, and in a future version of pandas the grouping columns will be excluded from the operation. Either pass `include_groups=False` to exclude the groupings or explicitly select the grouping columns after groupby to silence this warning.\n",
      "  .apply(other_family_members_survived)\n"
     ]
    },
    {
     "name": "stdout",
     "output_type": "stream",
     "text": [
      "✅ Preprocessing complete.\n",
      "Shape: (891, 11)\n",
      "Missing values per column:\n",
      " Survived           0\n",
      "Pclass             0\n",
      "Name               0\n",
      "Sex                0\n",
      "Age                0\n",
      "Fare               0\n",
      "Embarked           2\n",
      "Title              0\n",
      "FamilySize         0\n",
      "surname            0\n",
      "family_survival    0\n",
      "dtype: int64\n",
      "\n",
      "Preview:\n",
      "   Survived  Pclass                                               Name  \\\n",
      "0         1       1                               Cherry, Miss. Gladys   \n",
      "1         1       1                              Maioni, Miss. Roberta   \n",
      "2         1       1  Rothes, the Countess. of (Lucy Noel Martha Dye...   \n",
      "3         0       1                                  Taussig, Mr. Emil   \n",
      "4         1       1             Taussig, Mrs. Emil (Tillie Mandelbaum)   \n",
      "\n",
      "      Sex  Age   Fare Embarked       Title  FamilySize  surname  \\\n",
      "0  female   30  86.50        S        Miss           0   Cherry   \n",
      "1  female   16  86.50        S        Miss           0   Maioni   \n",
      "2  female   33  86.50        S       Other           0   Rothes   \n",
      "3    male   52  79.65        S  Mr_and_Mrs           2  Taussig   \n",
      "4  female   39  79.65        S  Mr_and_Mrs           2  Taussig   \n",
      "\n",
      "   family_survival  \n",
      "0              1.0  \n",
      "1              1.0  \n",
      "2              1.0  \n",
      "3              1.0  \n",
      "4              1.0  \n"
     ]
    },
    {
     "name": "stderr",
     "output_type": "stream",
     "text": [
      "/tmp/ipykernel_2924/369798375.py:81: FutureWarning: DataFrameGroupBy.apply operated on the grouping columns. This behavior is deprecated, and in a future version of pandas the grouping columns will be excluded from the operation. Either pass `include_groups=False` to exclude the groupings or explicitly select the grouping columns after groupby to silence this warning.\n",
      "  .apply(lambda x: other_family_members_survived(x, label='family_survival_ticket'))\n"
     ]
    }
   ],
   "source": [
    "# ============================================================\n",
    "# 1. Extract Titles from Names\n",
    "# ============================================================\n",
    "conditions = [\n",
    "    titanic_df['Name'].str.contains('Mr.'),\n",
    "    titanic_df['Name'].str.contains('Miss.'),\n",
    "    titanic_df['Name'].str.contains('Master.'),\n",
    "    ~(titanic_df['Name'].str.contains('Mr.|Miss.|Master.'))\n",
    "]\n",
    "values = ['Mr_and_Mrs', 'Miss', 'Master', 'Other']\n",
    "titanic_df['Title'] = np.select(conditions, values, default='Other')\n",
    "\n",
    "# ============================================================\n",
    "# 2. Impute Missing Age by Title Mean\n",
    "# ============================================================\n",
    "titanic_df['Age'] = (\n",
    "    titanic_df['Age']\n",
    "    .fillna(titanic_df.groupby('Title')['Age'].transform('mean'))\n",
    "    .astype('int64')\n",
    ")\n",
    "\n",
    "# ============================================================\n",
    "# 3. Combine SibSp + Parch → FamilySize\n",
    "# ============================================================\n",
    "if 'SibSp' in titanic_df.columns and 'Parch' in titanic_df.columns:\n",
    "    titanic_df['FamilySize'] = titanic_df['SibSp'] + titanic_df['Parch']\n",
    "    titanic_df.drop(['SibSp', 'Parch'], axis=1, inplace=True)\n",
    "\n",
    "# ============================================================\n",
    "# 4. Fill Missing Fare Using Median within Passenger Class\n",
    "# ============================================================\n",
    "if titanic_df['Fare'].isnull().sum() > 0:\n",
    "    for pclass in titanic_df.loc[titanic_df['Fare'].isnull(), 'Pclass'].unique():\n",
    "        median_fare = titanic_df.loc[titanic_df['Pclass'] == pclass, 'Fare'].median()\n",
    "        titanic_df.loc[\n",
    "            (titanic_df['Fare'].isnull()) & (titanic_df['Pclass'] == pclass),\n",
    "            'Fare'\n",
    "        ] = median_fare\n",
    "\n",
    "# ============================================================\n",
    "# 5. Family Survival Features (Dennis Bakhuis approach)\n",
    "# ============================================================\n",
    "def other_family_members_survived(dataset, label='family_survival'):\n",
    "    \"\"\"\n",
    "    Checks whether other family members within the same surname or ticket survived.\n",
    "    Returns a fractional indicator:\n",
    "      - 1.0 if at least one other family member survived\n",
    "      - 0.0 if no other family members survived\n",
    "      - 0.5 if unknown (no family or missing data)\n",
    "    \"\"\"\n",
    "    ds = dataset.copy()\n",
    "    if len(ds) == 1:\n",
    "        ds[label] = 0.5\n",
    "        return ds\n",
    "\n",
    "    result = []\n",
    "    for idx, row in ds.iterrows():\n",
    "        survived_fraction = ds.drop(idx)['Survived'].mean()\n",
    "        if np.isnan(survived_fraction):\n",
    "            result.append(0.5)\n",
    "        elif survived_fraction == 0:\n",
    "            result.append(0.0)\n",
    "        else:\n",
    "            result.append(1.0)\n",
    "    ds[label] = result\n",
    "    return ds\n",
    "\n",
    "# Extract surname\n",
    "titanic_df['surname'] = titanic_df['Name'].apply(lambda x: x.split(\",\")[0])\n",
    "\n",
    "# Apply surname + fare family grouping\n",
    "titanic_df = (\n",
    "    titanic_df.groupby(['surname', 'Fare'])\n",
    "    .apply(other_family_members_survived)\n",
    "    .reset_index(drop=True)\n",
    ")\n",
    "\n",
    "# Apply ticket-based grouping as a secondary family identifier\n",
    "titanic_df = (\n",
    "    titanic_df.groupby(['Ticket'])\n",
    "    .apply(lambda x: other_family_members_survived(x, label='family_survival_ticket'))\n",
    "    .reset_index(drop=True)\n",
    ")\n",
    "\n",
    "# Replace unknowns (0.5) in surname-based feature with ticket-based info\n",
    "mask = titanic_df['family_survival'] == 0.5\n",
    "titanic_df.loc[mask, 'family_survival'] = titanic_df.loc[mask, 'family_survival_ticket']\n",
    "# ============================================================\n",
    "# 6. Drop Unneeded Columns\n",
    "# ============================================================\n",
    "cols_to_drop = ['Ticket', 'Cabin', 'PassengerId', 'family_survival_ticket']\n",
    "titanic_df.drop(columns=[c for c in cols_to_drop if c in titanic_df.columns], inplace=True)\n",
    "\n",
    "# ============================================================\n",
    "# 7. Final Sanity Check\n",
    "# ============================================================\n",
    "print(\"✅ Preprocessing complete.\")\n",
    "print(\"Shape:\", titanic_df.shape)\n",
    "print(\"Missing values per column:\\n\", titanic_df.isnull().sum())\n",
    "print(\"\\nPreview:\")\n",
    "print(titanic_df.head())"
   ]
  },
  {
   "cell_type": "markdown",
   "id": "4053ac08",
   "metadata": {},
   "source": [
    "The intresting part about cleaning the data set is that because of our practical knowledge we are able to construct further pieces of information about families or titles, and we can use that information to clean better such as filling in ages by titles, while some values were missing such as the many cabins we had to drop, this should not be a big issue as while location data could be valuable in determing links between survival and cabin, and the direct link between cabin and class, the link between class and survival is not only historically shown but is apparent with even a cursory viewing of the dataset."
   ]
  },
  {
   "cell_type": "markdown",
   "id": "47c9e031",
   "metadata": {},
   "source": [
    "## Conclusion 1\n",
    "\n",
    "Is Sex correlated with Survival?\n",
    "\n",
    "HO: The sex of the passanger does not affect if they survived.\n",
    "\n",
    "HA: The sex of the passanger does affect if they survived.\n",
    "\n",
    "$\\alpha = 0.05$."
   ]
  },
  {
   "cell_type": "code",
   "execution_count": 20,
   "id": "a38828f0",
   "metadata": {},
   "outputs": [
    {
     "data": {
      "text/html": [
       "<div>\n",
       "<style scoped>\n",
       "    .dataframe tbody tr th:only-of-type {\n",
       "        vertical-align: middle;\n",
       "    }\n",
       "\n",
       "    .dataframe tbody tr th {\n",
       "        vertical-align: top;\n",
       "    }\n",
       "\n",
       "    .dataframe thead th {\n",
       "        text-align: right;\n",
       "    }\n",
       "</style>\n",
       "<table border=\"1\" class=\"dataframe\">\n",
       "  <thead>\n",
       "    <tr style=\"text-align: right;\">\n",
       "      <th>Survived</th>\n",
       "      <th>0</th>\n",
       "      <th>1</th>\n",
       "    </tr>\n",
       "    <tr>\n",
       "      <th>Sex</th>\n",
       "      <th></th>\n",
       "      <th></th>\n",
       "    </tr>\n",
       "  </thead>\n",
       "  <tbody>\n",
       "    <tr>\n",
       "      <th>female</th>\n",
       "      <td>81</td>\n",
       "      <td>233</td>\n",
       "    </tr>\n",
       "    <tr>\n",
       "      <th>male</th>\n",
       "      <td>468</td>\n",
       "      <td>109</td>\n",
       "    </tr>\n",
       "  </tbody>\n",
       "</table>\n",
       "</div>"
      ],
      "text/plain": [
       "Survived    0    1\n",
       "Sex               \n",
       "female     81  233\n",
       "male      468  109"
      ]
     },
     "metadata": {},
     "output_type": "display_data"
    },
    {
     "name": "stdout",
     "output_type": "stream",
     "text": [
      "P-Value: 1.1973570627755645e-58\n"
     ]
    },
    {
     "data": {
      "image/png": "[encoded data removed]",
      "text/plain": [
       "<Figure size 640x480 with 1 Axes>"
      ]
     },
     "metadata": {},
     "output_type": "display_data"
    }
   ],
   "source": [
    "table = pd.crosstab(titanic_df['Sex'], titanic_df['Survived'])\n",
    "display(table)\n",
    "_, p_val, _, _ = chi2_contingency(table)\n",
    "print(f\"P-Value: {p_val}\")\n",
    "table.plot(kind=\"bar\")\n",
    "plt.xlabel(\"Sex\")\n",
    "plt.ylabel(\"People\")\n",
    "plt.title(\"Number of Survivals and Deaths per Sex\")\n",
    "plt.show()"
   ]
  },
  {
   "cell_type": "markdown",
   "id": "54347a5a",
   "metadata": {},
   "source": [
    "With a P-Value of 1.1973570627755645e-58, this is clearly much less than the significance of 0.05. Thus, we reject the null hypothesis and find that there is a statistically significant correlation between sex and survival. This is further shown by the graph above which demonstrates women survived at a much higher rate than men. One cause of this could be the rule of \"Women and Children First,\" leading to many men being unable to make it on a lifeboat."
   ]
  },
  {
   "cell_type": "markdown",
   "id": "75595e69",
   "metadata": {},
   "source": [
    "## Conclusion 2\n",
    "\n",
    "Is Age correlated with survival in Men?\n",
    "\n",
    "HO: The age of the male passenger does not affect if they survived.\n",
    "\n",
    "HA: The age of the male passenger does affect if they survived.\n",
    "\n",
    "$\\alpha = 0.05$."
   ]
  },
  {
   "cell_type": "code",
   "execution_count": 21,
   "id": "618eef56",
   "metadata": {},
   "outputs": [
    {
     "data": {
      "image/png": "[encoded data removed]",
      "text/plain": [
       "<Figure size 1000x600 with 1 Axes>"
      ]
     },
     "metadata": {},
     "output_type": "display_data"
    },
    {
     "name": "stdout",
     "output_type": "stream",
     "text": [
      "Average Age of Survivors: 27.5505 Average Std Dev of Survivors: 15.7507\n",
      "Average Age of Non-Survivors: 31.8162 Average Std Dev of Non-Survivors: 12.4739\n",
      "P-value: 0.0092\n"
     ]
    }
   ],
   "source": [
    "men = titanic_df[titanic_df['Sex'] == 'male']\n",
    "men = men.dropna(subset=['Age'])\n",
    "\n",
    "survivors = men[men[\"Survived\"] == 1][\"Age\"]\n",
    "nonsurvivors = men[men[\"Survived\"] == 0][\"Age\"]\n",
    "_, p_val = ttest_ind(survivors, nonsurvivors, equal_var=False)\n",
    "plt.figure(figsize=(10,6))\n",
    "plt.hist(nonsurvivors, bins=20, alpha=0.4, color=\"red\", label=\"Did not survive\")\n",
    "plt.hist(survivors, bins=20, alpha=0.6, color=\"blue\", label=\"Survived\")\n",
    "plt.title(\"Age Distribution of Male Passengers by Survival\", fontsize=16)\n",
    "plt.xlabel(\"Age\")\n",
    "plt.ylabel(\"Number of Passengers\")\n",
    "plt.legend()\n",
    "plt.grid(alpha=0.7)\n",
    "plt.show()\n",
    "\n",
    "print(\"Average Age of Survivors:\", round(survivors.mean(), 4), \"Average Std Dev of Survivors:\", round(survivors.std(), 4))\n",
    "print(\"Average Age of Non-Survivors:\", round(nonsurvivors.mean(), 4), \"Average Std Dev of Non-Survivors:\", round(nonsurvivors.std(), 4))\n",
    "print(f\"P-value: {p_val:.4f}\")"
   ]
  },
  {
   "cell_type": "markdown",
   "id": "4ea15e4c",
   "metadata": {},
   "source": [
    "## Conclusion 3\n",
    "\n",
    "Is the Passengers' ticket classes correlated with their survival?\n",
    "\n",
    "HO: Ticket class has no effect on the survival of the passengers.\n",
    "\n",
    "HA: Ticket class has an effect on the survival of the passengers.\n",
    "\n",
    "Alpha = 0.05\n",
    "\n"
   ]
  },
  {
   "cell_type": "code",
   "execution_count": 22,
   "id": "f5ec9f3b",
   "metadata": {},
   "outputs": [
    {
     "data": {
      "text/html": [
       "<div>\n",
       "<style scoped>\n",
       "    .dataframe tbody tr th:only-of-type {\n",
       "        vertical-align: middle;\n",
       "    }\n",
       "\n",
       "    .dataframe tbody tr th {\n",
       "        vertical-align: top;\n",
       "    }\n",
       "\n",
       "    .dataframe thead th {\n",
       "        text-align: right;\n",
       "    }\n",
       "</style>\n",
       "<table border=\"1\" class=\"dataframe\">\n",
       "  <thead>\n",
       "    <tr style=\"text-align: right;\">\n",
       "      <th>Survived</th>\n",
       "      <th>0</th>\n",
       "      <th>1</th>\n",
       "    </tr>\n",
       "    <tr>\n",
       "      <th>Pclass</th>\n",
       "      <th></th>\n",
       "      <th></th>\n",
       "    </tr>\n",
       "  </thead>\n",
       "  <tbody>\n",
       "    <tr>\n",
       "      <th>1</th>\n",
       "      <td>80</td>\n",
       "      <td>136</td>\n",
       "    </tr>\n",
       "    <tr>\n",
       "      <th>2</th>\n",
       "      <td>97</td>\n",
       "      <td>87</td>\n",
       "    </tr>\n",
       "    <tr>\n",
       "      <th>3</th>\n",
       "      <td>372</td>\n",
       "      <td>119</td>\n",
       "    </tr>\n",
       "  </tbody>\n",
       "</table>\n",
       "</div>"
      ],
      "text/plain": [
       "Survived    0    1\n",
       "Pclass            \n",
       "1          80  136\n",
       "2          97   87\n",
       "3         372  119"
      ]
     },
     "metadata": {},
     "output_type": "display_data"
    },
    {
     "name": "stdout",
     "output_type": "stream",
     "text": [
      "Chi-square test p-value: 4.549251711298793e-23\n"
     ]
    },
    {
     "data": {
      "image/png": "[encoded data removed]",
      "text/plain": [
       "<Figure size 640x480 with 1 Axes>"
      ]
     },
     "metadata": {},
     "output_type": "display_data"
    },
    {
     "name": "stdout",
     "output_type": "stream",
     "text": [
      "Survival Rates by Class:\n",
      "Pclass\n",
      "1    0.629630\n",
      "2    0.472826\n",
      "3    0.242363\n",
      "Name: Survived, dtype: float64\n"
     ]
    },
    {
     "data": {
      "image/png": "[encoded data removed]",
      "text/plain": [
       "<Figure size 640x480 with 1 Axes>"
      ]
     },
     "metadata": {},
     "output_type": "display_data"
    }
   ],
   "source": [
    "class_table = pd.crosstab(titanic_df['Pclass'], titanic_df['Survived'])\n",
    "display(class_table)\n",
    "_, p_val, _, _ = chi2_contingency(class_table)\n",
    "print(f\"Chi-square test p-value: {p_val}\")\n",
    "\n",
    "class_table.plot(kind=\"bar\", stacked=False, color=[\"red\", \"green\"])\n",
    "plt.title(\"Survival Counts by Passenger's Ticket Class\")\n",
    "plt.xlabel(\"Passenger's Ticket Class\")\n",
    "plt.ylabel(\"Number of Passengers\")\n",
    "plt.legend([\"Did Not Survive\", \"Survived\"], loc=\"upper right\")\n",
    "plt.grid(alpha=0.7)\n",
    "plt.show()\n",
    "\n",
    "survival_rate_by_class = titanic_df.groupby(\"Pclass\")[\"Survived\"].mean()\n",
    "print(\"Survival Rates by Class:\")\n",
    "print(survival_rate_by_class)\n",
    "\n",
    "plt.bar(survival_rate_by_class.index, survival_rate_by_class.values)\n",
    "plt.title(\"Survival Rate by Passenger Class\")\n",
    "plt.xlabel(\"Passenger Class\")\n",
    "plt.ylabel(\"Survival Rate\")\n",
    "plt.show()\n"
   ]
  },
  {
   "cell_type": "markdown",
   "id": "a1f0376d",
   "metadata": {},
   "source": [
    "As seen above, I executed a chi-square test to determine if there is a correlation between a passenger ticket class and passenger survival. The test yielded a p-value of 4.5493e-23, which is extremely small and far below the alpha value of 0.05. Thus passenger class and passenger survival are correlated.\n",
    "\n",
    "The bar chart I created shows that first-class passengers had by far the highests rate of survival, and third-class passengers had by far the lowest rate of survival. This is likely due to both: the differing cabin locations of different ticket classes; and the differing levels of evacuation priority that comes with higher-class tickets."
   ]
  }
 ],
 "metadata": {
  "kernelspec": {
   "display_name": "Python 3 (ipykernel)",
   "language": "python",
   "name": "python3"
  },
  "language_info": {
   "codemirror_mode": {
    "name": "ipython",
    "version": 3
   },
   "file_extension": ".py",
   "mimetype": "text/x-python",
   "name": "python",
   "nbconvert_exporter": "python",
   "pygments_lexer": "ipython3",
   "version": "3.12.1"
  }
 },
 "nbformat": 4,
 "nbformat_minor": 5
}
