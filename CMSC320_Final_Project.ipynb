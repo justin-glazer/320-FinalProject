{
 "cells": [
  {
   "cell_type": "markdown",
   "id": "573e880f",
   "metadata": {},
   "source": [
    "# **CMSC 320 Final Project** \n",
    "## **Final Due Date: *Dec 09, 2025 @ 11:59 PM***\n",
    "## **Group Members: Ricardo Vasquez, Justin Glazer, Jonathan Teagan, Colin Pollard**"
   ]
  },
  {
   "cell_type": "markdown",
   "id": "7cf43eb8",
   "metadata": {},
   "source": [
    "## Checkpoint #2\n",
    "\n",
    "\n",
    "\n",
    "**List of Imports**"
   ]
  },
  {
   "cell_type": "code",
   "execution_count": 1,
   "id": "4a8f8275",
   "metadata": {},
   "outputs": [],
   "source": [
    "import pandas as pd\n",
    "from datetime import datetime\n",
    "import string"
   ]
  },
  {
   "cell_type": "markdown",
   "id": "6e342701",
   "metadata": {},
   "source": [
    "**Data Preprocessing**"
   ]
  },
  {
   "cell_type": "code",
   "execution_count": null,
   "id": "b99d6d4b",
   "metadata": {},
   "outputs": [],
   "source": []
  }
 ],
 "metadata": {
  "kernelspec": {
   "display_name": "Python 3",
   "language": "python",
   "name": "python3"
  },
  "language_info": {
   "codemirror_mode": {
    "name": "ipython",
    "version": 3
   },
   "file_extension": ".py",
   "mimetype": "text/x-python",
   "name": "python",
   "nbconvert_exporter": "python",
   "pygments_lexer": "ipython3",
   "version": "3.10.12"
  }
 },
 "nbformat": 4,
 "nbformat_minor": 5
}
